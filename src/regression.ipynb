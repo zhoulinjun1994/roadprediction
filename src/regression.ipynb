{
 "cells": [
  {
   "cell_type": "code",
   "execution_count": 13,
   "metadata": {
    "collapsed": false
   },
   "outputs": [
    {
     "name": "stdout",
     "output_type": "stream",
     "text": [
      "                            OLS Regression Results                            \n",
      "==============================================================================\n",
      "Dep. Variable:                      y   R-squared:                       0.114\n",
      "Model:                            OLS   Adj. R-squared:                  0.104\n",
      "Method:                 Least Squares   F-statistic:                     11.25\n",
      "Date:                Sun, 14 May 2017   Prob (F-statistic):           1.23e-59\n",
      "Time:                        19:44:54   Log-Likelihood:                -14959.\n",
      "No. Observations:                3197   AIC:                         2.999e+04\n",
      "Df Residuals:                    3160   BIC:                         3.022e+04\n",
      "Df Model:                          36                                         \n",
      "Covariance Type:            nonrobust                                         \n",
      "==============================================================================\n",
      "                 coef    std err          t      P>|t|      [0.025      0.975]\n",
      "------------------------------------------------------------------------------\n",
      "const         51.0315      4.151     12.295      0.000      42.893      59.170\n",
      "x1             0.1697      0.015     11.114      0.000       0.140       0.200\n",
      "x2             0.0272      0.013      2.140      0.032       0.002       0.052\n",
      "x3             0.1589      0.034      4.641      0.000       0.092       0.226\n",
      "x4            -0.0061      0.035     -0.174      0.862      -0.074       0.062\n",
      "x5            -2.8838      1.656     -1.741      0.082      -6.132       0.364\n",
      "x6            -2.4830      1.503     -1.652      0.099      -5.430       0.464\n",
      "x7             6.4203      1.174      5.468      0.000       4.118       8.722\n",
      "x8            -4.2417      1.782     -2.380      0.017      -7.736      -0.748\n",
      "x9            -2.2343      1.783     -1.253      0.210      -5.730       1.262\n",
      "x10           -3.1950      1.778     -1.797      0.072      -6.681       0.291\n",
      "x11           -0.8455      1.769     -0.478      0.633      -4.315       2.624\n",
      "x12            0.7951      1.739      0.457      0.648      -2.614       4.204\n",
      "x13            2.8827      1.747      1.650      0.099      -0.544       6.309\n",
      "x14           -4.4903      6.268     -0.716      0.474     -16.779       7.799\n",
      "x15           -8.4113      7.323     -1.149      0.251     -22.769       5.946\n",
      "x16          -14.2711      9.962     -1.433      0.152     -33.804       5.262\n",
      "x17           -0.8884     10.600     -0.084      0.933     -21.673      19.896\n",
      "x18           -6.2848      8.674     -0.725      0.469     -23.292      10.722\n",
      "x19            1.5145      6.115      0.248      0.804     -10.476      13.505\n",
      "x20            8.5029      4.290      1.982      0.048       0.092      16.914\n",
      "x21            0.9082      4.033      0.225      0.822      -7.000       8.816\n",
      "x22            0.1340      4.029      0.033      0.973      -7.766       8.034\n",
      "x23            2.0010      4.036      0.496      0.620      -5.912       9.914\n",
      "x24            1.9824      4.014      0.494      0.621      -5.888       9.853\n",
      "x25           -0.8211      4.017     -0.204      0.838      -8.698       7.055\n",
      "x26           -2.2116      3.992     -0.554      0.580     -10.039       5.616\n",
      "x27            3.6907      4.016      0.919      0.358      -4.183      11.565\n",
      "x28            6.0336      4.012      1.504      0.133      -1.833      13.901\n",
      "x29            4.9095      4.047      1.213      0.225      -3.025      12.844\n",
      "x30            2.7715      4.049      0.685      0.494      -5.167      10.710\n",
      "x31            6.5358      4.114      1.589      0.112      -1.531      14.602\n",
      "x32           13.6008      4.153      3.275      0.001       5.458      21.743\n",
      "x33            8.8147      4.199      2.099      0.036       0.581      17.048\n",
      "x34            3.7766      4.344      0.869      0.385      -4.740      12.293\n",
      "x35            7.3174      4.214      1.737      0.083      -0.944      15.579\n",
      "x36            2.0408      4.558      0.448      0.654      -6.896      10.978\n",
      "==============================================================================\n",
      "Omnibus:                     2902.470   Durbin-Watson:                   1.916\n",
      "Prob(Omnibus):                  0.000   Jarque-Bera (JB):           202782.577\n",
      "Skew:                           4.049   Prob(JB):                         0.00\n",
      "Kurtosis:                      41.167   Cond. No.                     4.42e+03\n",
      "==============================================================================\n",
      "\n",
      "Warnings:\n",
      "[1] Standard Errors assume that the covariance matrix of the errors is correctly specified.\n",
      "[2] The condition number is large, 4.42e+03. This might indicate that there are\n",
      "strong multicollinearity or other numerical problems.\n"
     ]
    }
   ],
   "source": [
    "%matplotlib inline\n",
    "\n",
    "from __future__ import print_function\n",
    "import numpy as np\n",
    "import statsmodels.api as sm\n",
    "import matplotlib.pyplot as plt\n",
    "from statsmodels.sandbox.regression.predstd import wls_prediction_std\n",
    "import cPickle as pickle\n",
    "\n",
    "with open(\"regression_116113.pkl\", \"rb\") as f:\n",
    "    y, X = pickle.load(f)\n",
    "y = np.array(y)\n",
    "X = np.array(X)\n",
    "#X = X[:, X.shape[1]-24:]\n",
    "X = sm.add_constant(X)\n",
    "model = sm.OLS(y, X)\n",
    "results = model.fit()\n",
    "print(results.summary())"
   ]
  },
  {
   "cell_type": "code",
   "execution_count": null,
   "metadata": {
    "collapsed": true
   },
   "outputs": [],
   "source": []
  }
 ],
 "metadata": {
  "kernelspec": {
   "display_name": "Python 2",
   "language": "python",
   "name": "python2"
  },
  "language_info": {
   "codemirror_mode": {
    "name": "ipython",
    "version": 2
   },
   "file_extension": ".py",
   "mimetype": "text/x-python",
   "name": "python",
   "nbconvert_exporter": "python",
   "pygments_lexer": "ipython2",
   "version": "2.7.10"
  }
 },
 "nbformat": 4,
 "nbformat_minor": 0
}
